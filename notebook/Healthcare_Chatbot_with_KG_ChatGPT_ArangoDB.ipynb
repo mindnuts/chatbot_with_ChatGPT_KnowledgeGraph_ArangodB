{
 "cells": [
  {
   "cell_type": "code",
   "execution_count": 13,
   "metadata": {},
   "outputs": [],
   "source": [
    "import openai\n",
    "import gradio \n",
    "import os\n",
    "from arango import ArangoClient"
   ]
  },
  {
   "cell_type": "code",
   "execution_count": 14,
   "metadata": {},
   "outputs": [],
   "source": [
    "# Initialize the ArangoDB client.\n",
    "client = ArangoClient(\"http://127.0.0.1:8529\")\n",
    "db = client.db('Healthcare_KG', username='root', password='')"
   ]
  },
  {
   "cell_type": "code",
   "execution_count": null,
   "metadata": {},
   "outputs": [],
   "source": [
    "openai.api_key = \"Your_OpenAI_Key\""
   ]
  },
  {
   "cell_type": "code",
   "execution_count": 16,
   "metadata": {},
   "outputs": [],
   "source": [
    "examples = \"\"\"\n",
    "# What are the symptoms of the disease Asthma?\n",
    "WITH Symptom\n",
    "FOR disease IN Disease\n",
    "    FILTER disease.label == 'Asthma'\n",
    "    FOR v, e, s IN 1..1 OUTBOUND disease hasSymptom\n",
    "        RETURN v.label\n",
    "# What are the symptoms of the disease Diabetes?\n",
    "WITH Symptom\n",
    "FOR disease IN Disease\n",
    "    FILTER disease.label == 'Diabetes'\n",
    "    FOR v, e, s IN 1..1 OUTBOUND disease hasSymptom\n",
    "        RETURN v.label\n",
    "# How to treat Asthma or what medications to use when suffering from Asthma or what are the treatments for Asthma?\n",
    "WITH Treatment\n",
    "FOR disease IN Disease\n",
    "    FILTER disease.label == 'Asthma'\n",
    "    FOR v, e, s IN 1..1 OUTBOUND disease isTreatedBy\n",
    "        RETURN v.label\n",
    "# How to treat COVID-19 or what medications to use when suffering from COVID-19 or what are the treatments for COVID-19?\n",
    "WITH Treatment\n",
    "FOR disease IN Disease\n",
    "    FILTER disease.label == 'COVID-19'\n",
    "    FOR v, e, s IN 1..1 OUTBOUND disease isTreatedBy\n",
    "        RETURN v.label\n",
    "# What kind of doctor do I look for if I am diagnosed with Asthma or What is the medical specialty for Asthma?\n",
    "WITH MedicalSpecialty\n",
    "FOR disease IN Disease\n",
    "    FILTER disease.label == 'Asthma'\n",
    "    FOR v, e, s IN 1..1 OUTBOUND disease hasSpecialty\n",
    "        RETURN v.label\n",
    "# What kind of doctor do I look for if I am suffering from Macular degeneration or What is the medical specialty for Macular degeneration?\n",
    "WITH MedicalSpecialty\n",
    "FOR disease IN Disease\n",
    "    FILTER disease.label == 'Macular degeneration'\n",
    "    FOR v, e, s IN 1..1 OUTBOUND disease hasSpecialty\n",
    "        RETURN v.label\n",
    "# I have symptoms of frequent urination and increase in thirst what type of disease it could be?\n",
    "WITH Symptom, Disease\n",
    "FOR symptom IN Symptom\n",
    "    FILTER symptom.label IN ['Frequent urination', 'Increased thirst']\n",
    "    FOR v, e, p IN 1..1 INBOUND symptom hasSymptom\n",
    "        COLLECT disease = v.label INTO symptoms = symptom.label\n",
    "        FILTER LENGTH(symptoms) == 2\n",
    "        RETURN disease\n",
    "# I have symptoms of loud snoring and excessive daytime sleepiness what type of disease it could be?\n",
    "WITH Symptom, Disease\n",
    "FOR symptom IN Symptom\n",
    "    FILTER symptom.label IN ['Loud snoring', 'Excessive daytime sleepiness']\n",
    "    FOR v, e, p IN 1..1 INBOUND symptom hasSymptom\n",
    "        COLLECT disease = v.label INTO symptoms = symptom.label\n",
    "        FILTER LENGTH(symptoms) == 2\n",
    "        RETURN disease\n",
    "# I have symptoms of chest pain and shortness of breath what type of disease it could be?\n",
    "WITH Symptom, Disease\n",
    "FOR symptom IN Symptom\n",
    "    FILTER symptom.label IN ['Chest pain', 'Shortness of breath']\n",
    "    FOR v, e, p IN 1..1 INBOUND symptom hasSymptom\n",
    "        COLLECT disease = v.label INTO symptoms = symptom.label\n",
    "        FILTER LENGTH(symptoms) == 2\n",
    "        RETURN disease\n",
    "# I have symptoms of whiteheads and blackheads, papules and pustules what type of disease it could be?\n",
    "WITH Symptom, Disease\n",
    "FOR symptom IN Symptom\n",
    "    FILTER symptom.label IN ['Whiteheads and blackheads', 'Papules and pustules']\n",
    "    FOR v, e, p IN 1..1 INBOUND symptom hasSymptom\n",
    "        COLLECT disease = v.label INTO symptoms = symptom.label\n",
    "        FILTER LENGTH(symptoms) >= 1\n",
    "        RETURN disease\n",
    "# I have symptoms of whiteheads and blackheads, papules and pustules what type of disease it could be?\n",
    "WITH Symptom, Disease\n",
    "FOR symptom IN Symptom\n",
    "    FILTER symptom.label IN ['Whiteheads and blackheads', 'Papules and pustules']\n",
    "    FOR v, e, p IN 1..1 INBOUND symptom hasSymptom\n",
    "        COLLECT disease = v.label INTO symptoms = symptom.label\n",
    "        FILTER LENGTH(symptoms) >= 1\n",
    "        RETURN disease\n",
    "# To find the disease associated with either one of the symptoms chest pain or shortness of breath.\n",
    "WITH Symptom, Disease\n",
    "FOR symptom IN Symptom\n",
    "    FILTER symptom.label IN ['Chest pain', 'Shortness of breath']\n",
    "    FOR v, e, p IN 1..1 INBOUND symptom hasSymptom\n",
    "        COLLECT disease = v.label INTO symptoms = symptom.label\n",
    "        FILTER LENGTH(symptoms) >= 1\n",
    "        RETURN disease\n",
    "# To find the disease associated with symptom of eye pain.\n",
    "WITH Symptom, Disease\n",
    "FOR symptom IN Symptom\n",
    "    FILTER symptom.label IN ['Eye pain']\n",
    "    FOR v, e, p IN 1..1 INBOUND symptom hasSymptom\n",
    "        COLLECT disease = v.label INTO symptoms = symptom.label\n",
    "        FILTER LENGTH(symptoms) >= 1\n",
    "        RETURN disease\n",
    "\n",
    "\"\"\""
   ]
  },
  {
   "cell_type": "code",
   "execution_count": 17,
   "metadata": {},
   "outputs": [],
   "source": [
    "content_hcb = f\"\"\" You are an AI system specializes in generating ArangoDB AQL queries based on example AQL queries.\n",
    "Example ArangoDB AQL queries are: \\n {examples} \\n\n",
    "You will refrain from providing explanations or additional information and solely focus on generating the ArangoDB AQL queries.\n",
    "You will strictly adhere to generating ArangoDB AQL queries based on the given examples.\n",
    "Do not provide any AQL queries that can't be deduced from AQL query examples. \n",
    "However, if the context of the conversation is insufficient, you will inform the user and specify the missing context.\n",
    "I repeat, if the context of the conversation is insufficient please inform the user and specify the missing context.\n",
    "\"\"\""
   ]
  },
  {
   "cell_type": "code",
   "execution_count": 18,
   "metadata": {},
   "outputs": [],
   "source": [
    "content_hlr = f\"\"\" You are an AI assistant specialized in generating text responses based on the provided information. \n",
    "Your role is to generate human-readable responses using the available information from the latest prompt. \n",
    "While providing answers, you will maintain the perspective of an AI assistant. \n",
    "It is important to note that you will not add any extra information that is not explicitly provided in the given prompt. \n",
    "You will strictly adhere to generating responses solely based on the available information. \n",
    "Once again, You will refrain from including any additional details that are not explicitly given in the prompt.\n",
    "\"\"\""
   ]
  },
  {
   "cell_type": "code",
   "execution_count": 19,
   "metadata": {},
   "outputs": [],
   "source": [
    "def human_like_response(user_input):\n",
    "    messages = [\n",
    "        {\"role\": \"system\", \"content\": content_hlr}\n",
    "    ]\n",
    "    messages.append({\"role\": \"user\", \"content\": user_input})\n",
    "    response = openai.ChatCompletion.create(\n",
    "    model = \"gpt-3.5-turbo\",\n",
    "    messages = messages,\n",
    "    temperature=0.5\n",
    "    )\n",
    "    reply = response[\"choices\"][0][\"message\"][\"content\"]\n",
    "    messages.append({\"role\": \"assistant\", \"content\": reply})\n",
    "    return reply\n",
    "    "
   ]
  },
  {
   "cell_type": "code",
   "execution_count": 20,
   "metadata": {},
   "outputs": [],
   "source": [
    "# check for valid AQL query\n",
    "def is_aql_query(query):\n",
    "    try:\n",
    "        db.aql.execute(query)  \n",
    "        return True \n",
    "    except Exception:\n",
    "        return False"
   ]
  },
  {
   "cell_type": "code",
   "execution_count": 21,
   "metadata": {},
   "outputs": [],
   "source": [
    "def HealthCareChatbot(user_input):\n",
    "    messages = [{\"role\": \"system\", \"content\": content_hcb}]\n",
    "    messages.append({\"role\": \"user\", \"content\": user_input})\n",
    "    response = openai.ChatCompletion.create(\n",
    "        model = \"gpt-3.5-turbo\",\n",
    "        messages = messages,\n",
    "        temperature=0.0\n",
    "    )\n",
    "    reply = response[\"choices\"][0][\"message\"][\"content\"]\n",
    "    messages.append({\"role\": \"assistant\", \"content\": reply})\n",
    "    if \"`\" in reply:\n",
    "        reply = reply.split(\"```\")[1].strip(\"`\")  \n",
    "    \n",
    "    if is_aql_query(reply):\n",
    "        docs = db.aql.execute(reply)\n",
    "        response = [doc for doc in docs]\n",
    "        if len(response) == 0:\n",
    "              message = f\"Apologise to the user as you don't have an information related to this particular disease, treatments, symptoms, or medical specialty. \"\n",
    "              response = human_like_response(message)\n",
    "        else:\n",
    "            response = human_like_response(\",\".join(response))\n",
    "    else:\n",
    "        message = f\"Greet the user and ask more information related to diseases, treatments, symptoms, or medical specialty.\"\n",
    "        response = human_like_response(message)\n",
    "    return response\n"
   ]
  },
  {
   "cell_type": "code",
   "execution_count": 23,
   "metadata": {},
   "outputs": [
    {
     "name": "stderr",
     "output_type": "stream",
     "text": [
      "/Users/sachin/anaconda3/envs/llm/lib/python3.10/site-packages/gradio/inputs.py:27: UserWarning: Usage of gradio.inputs is deprecated, and will not be supported in the future, please import your component from gradio.components\n",
      "  warnings.warn(\n",
      "/Users/sachin/anaconda3/envs/llm/lib/python3.10/site-packages/gradio/deprecation.py:40: UserWarning: `optional` parameter is deprecated, and it has no effect\n",
      "  warnings.warn(value)\n",
      "/Users/sachin/anaconda3/envs/llm/lib/python3.10/site-packages/gradio/deprecation.py:40: UserWarning: `numeric` parameter is deprecated, and it has no effect\n",
      "  warnings.warn(value)\n",
      "/Users/sachin/anaconda3/envs/llm/lib/python3.10/site-packages/gradio/outputs.py:22: UserWarning: Usage of gradio.outputs is deprecated, and will not be supported in the future, please import your components from gradio.components\n",
      "  warnings.warn(\n"
     ]
    }
   ],
   "source": [
    "inputs = gradio.inputs.Textbox(lines=7, label=\"Chat with ArangoGPT\")\n",
    "outputs = gradio.outputs.Textbox(label=\"ArangoGPT Reply\")\n",
    "demo = gradio.Interface(fn=HealthCareChatbot, inputs = inputs, outputs = outputs, title = \"HealthCare Chatbot Backed by ArangoDB\")"
   ]
  },
  {
   "cell_type": "code",
   "execution_count": 24,
   "metadata": {},
   "outputs": [
    {
     "name": "stdout",
     "output_type": "stream",
     "text": [
      "Running on local URL:  http://127.0.0.1:7861\n",
      "Running on public URL: https://3b4c1ce839746d0918.gradio.live\n",
      "\n",
      "This share link expires in 72 hours. For free permanent hosting and GPU upgrades (NEW!), check out Spaces: https://huggingface.co/spaces\n"
     ]
    },
    {
     "data": {
      "text/html": [
       "<div><iframe src=\"https://3b4c1ce839746d0918.gradio.live\" width=\"100%\" height=\"500\" allow=\"autoplay; camera; microphone; clipboard-read; clipboard-write;\" frameborder=\"0\" allowfullscreen></iframe></div>"
      ],
      "text/plain": [
       "<IPython.core.display.HTML object>"
      ]
     },
     "metadata": {},
     "output_type": "display_data"
    },
    {
     "data": {
      "text/plain": []
     },
     "execution_count": 24,
     "metadata": {},
     "output_type": "execute_result"
    }
   ],
   "source": [
    "demo.launch(share=True)"
   ]
  },
  {
   "attachments": {},
   "cell_type": "markdown",
   "metadata": {},
   "source": [
    "## Examples\n",
    "1. Hello!\n",
    "2. What are the symptoms of the disease Asthma?\n",
    "3. Which medications to use when suffering from Asthma?\n",
    "4. I have symptoms of chest pain and shortness of breath what type of disease it could be?\n",
    "5. How to treat COVID-19?"
   ]
  }
 ],
 "metadata": {
  "kernelspec": {
   "display_name": "Python [conda env:llm]",
   "language": "python",
   "name": "conda-env-llm-py"
  },
  "language_info": {
   "codemirror_mode": {
    "name": "ipython",
    "version": 3
   },
   "file_extension": ".py",
   "mimetype": "text/x-python",
   "name": "python",
   "nbconvert_exporter": "python",
   "pygments_lexer": "ipython3",
   "version": "3.10.11"
  }
 },
 "nbformat": 4,
 "nbformat_minor": 4
}
